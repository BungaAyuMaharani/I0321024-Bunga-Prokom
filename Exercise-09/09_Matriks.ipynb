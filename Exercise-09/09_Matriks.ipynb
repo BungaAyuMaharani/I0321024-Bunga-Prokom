{
 "cells": [
  {
   "cell_type": "markdown",
   "metadata": {},
   "source": [
    "# Exercise 09  \n",
    "### OPERASI MATRIKS  \n",
    "Silahkan lengkapi kode yang rumpang sesuai perintah yang diberikan.\n"
   ]
  },
  {
   "cell_type": "markdown",
   "metadata": {},
   "source": [
    "![](./image/1.png)"
   ]
  },
  {
   "cell_type": "code",
   "execution_count": 4,
   "metadata": {},
   "outputs": [
    {
     "name": "stdout",
     "output_type": "stream",
     "text": [
      "\n",
      "1    3    \n",
      "5    7    \n",
      "\n",
      "2    4    \n",
      "6    8    \n"
     ]
    }
   ],
   "source": [
    "A = [[1, 3],\n",
    "     [5, 7]]\n",
    "\n",
    "B = [[2, 4],\n",
    "     [6, 8]]\n",
    "\n",
    "for x in range (0, len (A)) :\n",
    "     print()\n",
    "     for y in range (0, len(A[0])) :\n",
    "          print (A[x][y], end= '    ')\n",
    "print()\n",
    "\n",
    "for x in range (0, len (B)) :\n",
    "     print()\n",
    "     for y in range (0, len(B[0])) :\n",
    "          print(B[x][y], end= '    ')\n",
    "print()\n"
   ]
  },
  {
   "cell_type": "markdown",
   "metadata": {},
   "source": [
    "Buatlah matriks menggunakan metode perulangan for dengan ketentuan sebagai berikut:\n",
    "* Matriks A berisi angka sebesar 4 setelah nim kalian. (ex: nim = 12, nilai matriks [16, 16],[16,16])\n",
    "* Matriks B berisi angka sebesar 4 sebelum nim kalian. (ex: nim = 12, nilai matriks [8, 8],[8,8])\n"
   ]
  },
  {
   "cell_type": "code",
   "execution_count": 5,
   "metadata": {},
   "outputs": [
    {
     "name": "stdout",
     "output_type": "stream",
     "text": [
      "[[28, 28], [28, 28]]\n",
      "[[20, 20], [20, 20]]\n"
     ]
    }
   ],
   "source": [
    "def create(matriks, nim):\n",
    "    for i in range (2):\n",
    "        for k in range (2):\n",
    "            matriks[i][k] = nim \n",
    "create(A, 28)\n",
    "create(B, 20)\n",
    "\n",
    "print(A)\n",
    "print(B)"
   ]
  },
  {
   "cell_type": "markdown",
   "metadata": {},
   "source": [
    "## KERJAKAN SOAL BERIKUT\n",
    "1. Buatlah program penjumlahan matriks A dan B.\n",
    "2. Buatlah program pengurangan matriks A dan B.\n",
    "3. Buatlah program perkalian matriks A dan B."
   ]
  },
  {
   "cell_type": "code",
   "execution_count": 14,
   "metadata": {},
   "outputs": [
    {
     "name": "stdout",
     "output_type": "stream",
     "text": [
      "\n",
      "3    7    \n",
      "11    15    \n"
     ]
    }
   ],
   "source": [
    "#SOAL-1\n",
    "#YOUR CODE HERE\n",
    "matriksA = [[1, 3],\n",
    "            [5, 7]]\n",
    "\n",
    "matriksB = [[2, 4],\n",
    "            [6, 8]] \n",
    "            \n",
    "for x in range(0, len(matriksB)):\n",
    "    print()\n",
    "    for y in range (0, len(matriksB[0])) :\n",
    "        print(matriksA[x][y] + matriksB[x][y], end='    ')\n",
    "print()\n"
   ]
  },
  {
   "cell_type": "code",
   "execution_count": 11,
   "metadata": {},
   "outputs": [
    {
     "name": "stdout",
     "output_type": "stream",
     "text": [
      "\n",
      "-1   -1   \n",
      "-1   -1   \n"
     ]
    }
   ],
   "source": [
    "#SOAL-2\n",
    "#YOUR CODE HERE\n",
    "matriksA = [[1, 3],\n",
    "            [5, 7]]\n",
    "\n",
    "matriksB = [[2, 4],\n",
    "            [6, 8]] \n",
    "            \n",
    "for x in range(0, len(matriksB)):\n",
    "    print()\n",
    "    for y in range (0, len(matriksB[0])) :\n",
    "        print(matriksA[x][y] - matriksB[x][y], end='   ')\n",
    "print()\n"
   ]
  },
  {
   "cell_type": "code",
   "execution_count": 21,
   "metadata": {},
   "outputs": [
    {
     "name": "stdout",
     "output_type": "stream",
     "text": [
      "\n",
      "\n",
      "20    28    \n",
      "52    76    \n"
     ]
    }
   ],
   "source": [
    "#SOAL-3\n",
    "#YOUR CODE HERE\n",
    "matriksA = [[1,3],\n",
    "            [5,7]]\n",
    "\n",
    "matriksB =[[2,4],\n",
    "           [6,8]]\n",
    "\n",
    "matriksC =[]\n",
    "\n",
    "for x in range (0, len(matriksA)) :\n",
    "    print()\n",
    "\n",
    "    baris = []\n",
    "    for y in range (0, len(matriksA[0])) :\n",
    "        total =0; \n",
    "        for z in range (0, len(matriksA)) :\n",
    "            total = total + (matriksA[x][z] * matriksB [z][y])\n",
    "        baris.append(total) \n",
    "    matriksC.append(baris)\n",
    "\n",
    "for x in range (0, len(matriksC)):\n",
    "    for y in range (0, len(matriksC[0])) :\n",
    "        print(matriksC[x][y], end= '    '),\n",
    "    print()"
   ]
  },
  {
   "cell_type": "markdown",
   "metadata": {},
   "source": [
    "### Cara Pengumpulan\n",
    "\n",
    "1. Buka *New Terminal*\n",
    "2. Pastikan *path* Terminal adalah folder repositori kalian (NIM-Nama-Prokom).\n",
    "3. Tambahkan file yang akan ditrack dengan `git add <nama file>`. Nama file bisa diubah . (titik)  `git add .`yang artinya semua file dalam folder akan ditrack.\n",
    "4. Lakukan commit perubahan dengan `git commit -m <deskripsi>`.\n",
    "5. Lakukan push dengan `git push -u origin <nama branch>`. Nama branch dapat diketahui dengan `git branch`.\n",
    "6. Pastikan Exercise-02 telah terupload dan dapat diakses di repositori dengan mengaksesnya di browser."
   ]
  }
 ],
 "metadata": {
  "interpreter": {
   "hash": "1d5c1156327dacead463cc502c55ebae8ce9c8c01979cf154173ff808e75bf55"
  },
  "kernelspec": {
   "display_name": "Python 3.9.7 64-bit",
   "language": "python",
   "name": "python3"
  },
  "language_info": {
   "codemirror_mode": {
    "name": "ipython",
    "version": 3
   },
   "file_extension": ".py",
   "mimetype": "text/x-python",
   "name": "python",
   "nbconvert_exporter": "python",
   "pygments_lexer": "ipython3",
   "version": "3.9.7"
  },
  "orig_nbformat": 4
 },
 "nbformat": 4,
 "nbformat_minor": 2
}
