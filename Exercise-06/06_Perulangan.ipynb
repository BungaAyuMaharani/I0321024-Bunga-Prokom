{
 "cells": [
  {
   "cell_type": "markdown",
   "metadata": {},
   "source": [
    "***\n",
    "<h1 align=\"center\">Exercise 06</h1>\n",
    " \n",
    "***\n",
    "## While Loop\n",
    "## Exercise 6.1\n",
    "isilah bagian rumpang berikut. xx diganti tanggal lahir dan yy diganti menjadi bulan lahir. tandanya menyesuaikan yang lebih besar."
   ]
  },
  {
   "cell_type": "code",
   "execution_count": 25,
   "metadata": {},
   "outputs": [
    {
     "name": "stdout",
     "output_type": "stream",
     "text": [
      "teruslah menjadi orang baik\n",
      "teruslah menjadi orang baik\n",
      "teruslah menjadi orang baik\n",
      "teruslah menjadi orang baik\n",
      "teruslah menjadi orang baik\n",
      "teruslah menjadi orang baik\n",
      "teruslah menjadi orang baik\n",
      "teruslah menjadi orang baik\n",
      "teruslah menjadi orang baik\n",
      "teruslah menjadi orang baik\n",
      "teruslah menjadi orang baik\n",
      "teruslah menjadi orang baik\n"
     ]
    }
   ],
   "source": [
    "#menentukan banyak pengulangan\n",
    "n = 13\n",
    "\n",
    "#melakukan pengulangan\n",
    "i = 1\n",
    "\n",
    "while i < n :\n",
    "    print (\"teruslah menjadi orang baik\")\n",
    "    #diisi motto kalian\n",
    "    i = i + 1 # sesuaikan dengan atas agar fungsi perulangan dapat berhenti\n"
   ]
  },
  {
   "cell_type": "markdown",
   "metadata": {},
   "source": [
    "## Exercise 6.2\n",
    "\n",
    "Buatlah code seperti yang dicontohkan pada modul agar user dapat menginputkan sendiri jumlah n yang diinginkan"
   ]
  },
  {
   "cell_type": "code",
   "execution_count": 42,
   "metadata": {},
   "outputs": [
    {
     "name": "stdout",
     "output_type": "stream",
     "text": [
      "bungbungbung\n",
      "bungbungbung\n",
      "bungbungbung\n",
      "bungbungbung\n",
      "bungbungbung\n",
      "bungbungbung\n",
      "bungbungbung\n",
      "bungbungbung\n",
      "bungbungbung\n",
      "bungbungbung\n",
      "bungbungbung\n",
      "bungbungbung\n",
      "bungbungbung\n",
      "bungbungbung\n",
      "bungbungbung\n",
      "bungbungbung\n",
      "bungbungbung\n",
      "bungbungbung\n",
      "bungbungbung\n",
      "bungbungbung\n",
      "bungbungbung\n",
      "bungbungbung\n",
      "bungbungbung\n"
     ]
    }
   ],
   "source": [
    "#Kerjakan disini\n",
    "n = int(input(\"Masukkan nilai n:\"))\n",
    "i = 1\n",
    "while i < n :\n",
    "    print(\"bungbungbung\")\n",
    "    i = i + 1\n",
    "    \n"
   ]
  },
  {
   "cell_type": "markdown",
   "metadata": {},
   "source": [
    "## Excercise 6.3\n",
    "\n",
    "isilah xx, yy, dan tanda rumpang seperti pada exercise 6.1\n"
   ]
  },
  {
   "cell_type": "code",
   "execution_count": 33,
   "metadata": {},
   "outputs": [
    {
     "name": "stdout",
     "output_type": "stream",
     "text": [
      "Baris ke-13 : Charlie's Angel\n",
      "Baris ke-12 : Charlie's Angel\n",
      "Baris ke-11 : Charlie's Angel\n",
      "Baris ke-10 : Charlie's Angel\n",
      "Baris ke-9 : Charlie's Angel\n",
      "Baris ke-8 : Charlie's Angel\n",
      "Baris ke-7 : Charlie's Angel\n",
      "Baris ke-6 : Charlie's Angel\n",
      "Baris ke-5 : Charlie's Angel\n",
      "Baris ke-4 : Charlie's Angel\n",
      "Baris ke-3 : Charlie's Angel\n",
      "Baris ke-2 : Charlie's Angel\n"
     ]
    }
   ],
   "source": [
    "#melakukan pengulangan\n",
    "i = 13\n",
    "\n",
    "while i > 1 :\n",
    "    print (\"Baris ke-%d : Charlie's Angel\"%i)\n",
    "    #isi titik-titik dengan judul film favorit kalian\n",
    "    i = i - 1 "
   ]
  },
  {
   "cell_type": "markdown",
   "metadata": {},
   "source": [
    "## FOR LOOP\n",
    "\n",
    "## Exercise 6.4\n",
    "\n",
    "munculkan 3 dari 7 elemen yang berada di dalam list1 dan list2\n"
   ]
  },
  {
   "cell_type": "code",
   "execution_count": 29,
   "metadata": {},
   "outputs": [
    {
     "name": "stdout",
     "output_type": "stream",
     "text": [
      "4 mie Jakarta\n",
      "5 cumi asam pedas Osaka\n",
      "6 sate ayam Lyon\n"
     ]
    }
   ],
   "source": [
    "list1 = [\"Bakso\",\"ayam\",\"ikan bakar\",\"mie\",\"cumi asam pedas\",\"sate ayam\",\"sosis babi\"] #masukkan 7 list makanan favorit kalian\n",
    "list2 = [\"Solo\",\"Yogyakarta\",\"Malang\",\"Jakarta\",\"Osaka\",\"Lyon\",\"Roma\"] #masukkan 7 list kota favorit kalian\n",
    "\n",
    "for i in range(3,6) :\n",
    "    print(i+1, list1[i] , list2[i])"
   ]
  },
  {
   "cell_type": "markdown",
   "metadata": {},
   "source": [
    "## Perulangan Bersarang\n",
    "\n",
    "## Exercise 6.5"
   ]
  },
  {
   "cell_type": "code",
   "execution_count": 37,
   "metadata": {},
   "outputs": [
    {
     "name": "stdout",
     "output_type": "stream",
     "text": [
      "169 \n",
      "182 196 \n",
      "195 210 225 \n",
      "208 224 240 256 \n",
      "221 238 255 272 289 \n",
      "234 252 270 288 306 324 \n",
      "247 266 285 304 323 342 361 \n",
      "260 280 300 320 340 360 380 400 \n",
      "273 294 315 336 357 378 399 420 441 \n",
      "286 308 330 352 374 396 418 440 462 484 \n",
      "299 322 345 368 391 414 437 460 483 506 529 \n"
     ]
    }
   ],
   "source": [
    "i = 13\n",
    "while i < 24 :\n",
    "    j = 13\n",
    "    while j<=i:\n",
    "        print(\"%d \" % (i*j), end = '')\n",
    "        j = j + 1\n",
    "    print()\n",
    "    i+=1"
   ]
  },
  {
   "cell_type": "markdown",
   "metadata": {},
   "source": [
    "## Pernyataan Loncat\n",
    "\n",
    "## Exercise 6.\n",
    "\n",
    "Buatlah fungsi berikut agar muncul angka hingga berhenti sesuai dengan nilai qq\n",
    "qq = angka favorit kalian\n",
    "pp>qq"
   ]
  },
  {
   "cell_type": "code",
   "execution_count": 31,
   "metadata": {},
   "outputs": [
    {
     "name": "stdout",
     "output_type": "stream",
     "text": [
      "012345678"
     ]
    }
   ],
   "source": [
    "for i in range(9):\n",
    "    print(i,end='')\n",
    "    if i == 13:\n",
    "        break"
   ]
  },
  {
   "cell_type": "markdown",
   "metadata": {},
   "source": [
    "***\n",
    "<h1 align=\"center\">WELL DONE</h1>\n",
    " \n",
    "***"
   ]
  }
 ],
 "metadata": {
  "interpreter": {
   "hash": "cd08f94adcf3cbae37fe85286256f4c2a10455ca9094fd053e9f3d3f09647223"
  },
  "kernelspec": {
   "display_name": "Python 3.9.7 64-bit",
   "language": "python",
   "name": "python3"
  },
  "language_info": {
   "codemirror_mode": {
    "name": "ipython",
    "version": 3
   },
   "file_extension": ".py",
   "mimetype": "text/x-python",
   "name": "python",
   "nbconvert_exporter": "python",
   "pygments_lexer": "ipython3",
   "version": "3.9.7"
  },
  "orig_nbformat": 4
 },
 "nbformat": 4,
 "nbformat_minor": 2
}
